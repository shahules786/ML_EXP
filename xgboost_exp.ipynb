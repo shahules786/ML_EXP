{
 "cells": [
  {
   "cell_type": "code",
   "execution_count": 1,
   "metadata": {},
   "outputs": [],
   "source": [
    "import matplotlib.pyplot as plt\n",
    "import xgboost as xgb\n",
    "from sklearn import datasets\n",
    "from sklearn.metrics import accuracy_score\n",
    "from sklearn.model_selection import train_test_split\n",
    "from xgboost import plot_tree\n",
    "from trains import Task\n"
   ]
  },
  {
   "cell_type": "code",
   "execution_count": 2,
   "metadata": {},
   "outputs": [
    {
     "name": "stdout",
     "output_type": "stream",
     "text": [
      "TRAINS Task: created new task id=80615ca46bc04b699ab811d4357b2c9f\n",
      "2020-08-25 11:22:45,348 - trains.Repository Detection - WARNING - Can't get branch information for git repo in /home/shahul/ML_EXP\n",
      "2020-08-25 11:22:45,357 - trains.Repository Detection - WARNING - Can't get commit information for git repo in /home/shahul/ML_EXP\n",
      "TRAINS results page: https://demoapp.trains.allegro.ai/projects/b21b3a3252d844d489f6867c83458921/experiments/80615ca46bc04b699ab811d4357b2c9f/output/log\n"
     ]
    }
   ],
   "source": [
    "task = Task.init(project_name='examples', task_name='XGBoost simple example')\n",
    "iris = datasets.load_iris()\n",
    "X = iris.data\n",
    "y = iris.target\n",
    "X_train, X_test, y_train, y_test = train_test_split(X, y, test_size=0.2, random_state=42)\n",
    "dtrain = xgb.DMatrix(X_train, label=y_train)\n",
    "dtest = xgb.DMatrix(X_test, label=y_test)\n"
   ]
  },
  {
   "cell_type": "code",
   "execution_count": 3,
   "metadata": {},
   "outputs": [
    {
     "name": "stdout",
     "output_type": "stream",
     "text": [
      "TRAINS Monitor: GPU monitoring failed getting GPU reading, switching off GPU monitoring\n"
     ]
    }
   ],
   "source": [
    "param = {\n",
    "    'max_depth': 3,  # the maximum depth of each tree\n",
    "    'eta': 0.3,  # the training step for each iteration\n",
    "    'silent': 1,  # logging mode - quiet\n",
    "    'objective': 'multi:softprob',  # error evaluation for multiclass training\n",
    "    'num_class': 3}  # the number of classes that exist in this datset\n",
    "num_round = 20  # the number of training iterations"
   ]
  },
  {
   "cell_type": "code",
   "execution_count": 4,
   "metadata": {},
   "outputs": [],
   "source": [
    "logger = task.get_logger()"
   ]
  },
  {
   "cell_type": "code",
   "execution_count": 6,
   "metadata": {},
   "outputs": [
    {
     "name": "stdout",
     "output_type": "stream",
     "text": [
      "TRAINS Monitor: Could not detect iteration reporting, falling back to iterations as seconds-from-start\n"
     ]
    }
   ],
   "source": [
    "task_params = task.connect(param)"
   ]
  },
  {
   "cell_type": "code",
   "execution_count": 7,
   "metadata": {},
   "outputs": [],
   "source": [
    "# build classifier\n",
    "model = xgb.XGBClassifier()\n",
    "model.fit(X_train, y_train)\n",
    "\n",
    "\n",
    "# make predictions for test data\n",
    "y_pred = model.predict(X_test)\n",
    "predictions = [round(value) for value in y_pred]\n",
    "\n",
    "# evaluate predictions\n",
    "accuracy = accuracy_score(y_test, predictions)"
   ]
  },
  {
   "cell_type": "code",
   "execution_count": 12,
   "metadata": {},
   "outputs": [
    {
     "name": "stdout",
     "output_type": "stream",
     "text": [
      "TRAINS Monitor: Reporting detected, reverting back to iteration based reporting\n"
     ]
    },
    {
     "name": "stderr",
     "output_type": "stream",
     "text": [
      "Retrying (Retry(total=237, connect=237, read=240, redirect=240, status=240)) after connection broken by 'NewConnectionError('<urllib3.connection.VerifiedHTTPSConnection object at 0x7fbf17c2d7b8>: Failed to establish a new connection: [Errno -3] Temporary failure in name resolution',)': /v2.9/tasks.get_all\n",
      "Retrying (Retry(total=236, connect=236, read=240, redirect=240, status=240)) after connection broken by 'NewConnectionError('<urllib3.connection.VerifiedHTTPSConnection object at 0x7fbf17c2dcf8>: Failed to establish a new connection: [Errno -3] Temporary failure in name resolution',)': /v2.9/tasks.get_all\n",
      "Retrying (Retry(total=237, connect=238, read=239, redirect=240, status=240)) after connection broken by 'NewConnectionError('<urllib3.connection.VerifiedHTTPSConnection object at 0x7fbf1778b630>: Failed to establish a new connection: [Errno -3] Temporary failure in name resolution',)': /v2.9/tasks.get_all\n",
      "Retrying (Retry(total=237, connect=237, read=240, redirect=240, status=240)) after connection broken by 'NewConnectionError('<urllib3.connection.VerifiedHTTPSConnection object at 0x7fbf17c2aeb8>: Failed to establish a new connection: [Errno -3] Temporary failure in name resolution',)': /v2.9/events.add_batch\n",
      "Retrying (Retry(total=235, connect=235, read=240, redirect=240, status=240)) after connection broken by 'NewConnectionError('<urllib3.connection.VerifiedHTTPSConnection object at 0x7fbf17f7a5f8>: Failed to establish a new connection: [Errno -3] Temporary failure in name resolution',)': /v2.9/tasks.get_all\n",
      "Retrying (Retry(total=236, connect=237, read=239, redirect=240, status=240)) after connection broken by 'NewConnectionError('<urllib3.connection.VerifiedHTTPSConnection object at 0x7fbf17c30f28>: Failed to establish a new connection: [Errno -3] Temporary failure in name resolution',)': /v2.9/tasks.get_all\n",
      "Retrying (Retry(total=236, connect=236, read=240, redirect=240, status=240)) after connection broken by 'NewConnectionError('<urllib3.connection.VerifiedHTTPSConnection object at 0x7fbf1797ad68>: Failed to establish a new connection: [Errno -3] Temporary failure in name resolution',)': /v2.9/events.add_batch\n",
      "Retrying (Retry(total=235, connect=236, read=239, redirect=240, status=240)) after connection broken by 'NewConnectionError('<urllib3.connection.VerifiedHTTPSConnection object at 0x7fbf1778b550>: Failed to establish a new connection: [Errno -3] Temporary failure in name resolution',)': /v2.9/tasks.get_all\n",
      "Retrying (Retry(total=235, connect=235, read=240, redirect=240, status=240)) after connection broken by 'NewConnectionError('<urllib3.connection.VerifiedHTTPSConnection object at 0x7fbf17f7a470>: Failed to establish a new connection: [Errno -3] Temporary failure in name resolution',)': /v2.9/events.add_batch\n",
      "Retrying (Retry(total=234, connect=234, read=240, redirect=240, status=240)) after connection broken by 'NewConnectionError('<urllib3.connection.VerifiedHTTPSConnection object at 0x7fbf17c30588>: Failed to establish a new connection: [Errno -3] Temporary failure in name resolution',)': /v2.9/tasks.get_all\n",
      "Retrying (Retry(total=234, connect=235, read=239, redirect=240, status=240)) after connection broken by 'NewConnectionError('<urllib3.connection.VerifiedHTTPSConnection object at 0x7fbf17f7a160>: Failed to establish a new connection: [Errno -3] Temporary failure in name resolution',)': /v2.9/tasks.get_all\n",
      "Retrying (Retry(total=234, connect=234, read=240, redirect=240, status=240)) after connection broken by 'NewConnectionError('<urllib3.connection.VerifiedHTTPSConnection object at 0x7fbf17f7a240>: Failed to establish a new connection: [Errno -3] Temporary failure in name resolution',)': /v2.9/events.add_batch\n",
      "Retrying (Retry(total=233, connect=233, read=240, redirect=240, status=240)) after connection broken by 'NewConnectionError('<urllib3.connection.VerifiedHTTPSConnection object at 0x7fbf178959e8>: Failed to establish a new connection: [Errno -3] Temporary failure in name resolution',)': /v2.9/tasks.get_all\n",
      "Retrying (Retry(total=233, connect=234, read=239, redirect=240, status=240)) after connection broken by 'NewConnectionError('<urllib3.connection.VerifiedHTTPSConnection object at 0x7fbf17895160>: Failed to establish a new connection: [Errno -3] Temporary failure in name resolution',)': /v2.9/tasks.get_all\n",
      "Retrying (Retry(total=233, connect=233, read=240, redirect=240, status=240)) after connection broken by 'NewConnectionError('<urllib3.connection.VerifiedHTTPSConnection object at 0x7fbf17895978>: Failed to establish a new connection: [Errno -3] Temporary failure in name resolution',)': /v2.9/events.add_batch\n",
      "Retrying (Retry(total=232, connect=232, read=240, redirect=240, status=240)) after connection broken by 'NewConnectionError('<urllib3.connection.VerifiedHTTPSConnection object at 0x7fbf178956a0>: Failed to establish a new connection: [Errno -3] Temporary failure in name resolution',)': /v2.9/tasks.get_all\n",
      "Retrying (Retry(total=232, connect=233, read=239, redirect=240, status=240)) after connection broken by 'NewConnectionError('<urllib3.connection.VerifiedHTTPSConnection object at 0x7fbf17895b00>: Failed to establish a new connection: [Errno -3] Temporary failure in name resolution',)': /v2.9/tasks.get_all\n",
      "Retrying (Retry(total=232, connect=232, read=240, redirect=240, status=240)) after connection broken by 'NewConnectionError('<urllib3.connection.VerifiedHTTPSConnection object at 0x7fbf145c7b00>: Failed to establish a new connection: [Errno -3] Temporary failure in name resolution',)': /v2.9/events.add_batch\n"
     ]
    }
   ],
   "source": [
    "logger.report_scalar(title='Training',series='acc',value=accuracy,iteration=1)"
   ]
  },
  {
   "cell_type": "code",
   "execution_count": null,
   "metadata": {},
   "outputs": [],
   "source": []
  }
 ],
 "metadata": {
  "kernelspec": {
   "display_name": "Python 3",
   "language": "python",
   "name": "python3"
  },
  "language_info": {
   "codemirror_mode": {
    "name": "ipython",
    "version": 3
   },
   "file_extension": ".py",
   "mimetype": "text/x-python",
   "name": "python",
   "nbconvert_exporter": "python",
   "pygments_lexer": "ipython3",
   "version": "3.6.10"
  }
 },
 "nbformat": 4,
 "nbformat_minor": 4
}
